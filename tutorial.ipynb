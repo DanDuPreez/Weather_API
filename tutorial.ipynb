{
 "cells": [
  {
   "cell_type": "markdown",
   "source": [
    "# Load the dataframe"
   ],
   "metadata": {
    "collapsed": false
   },
   "id": "434b1ce98cb7662d"
  },
  {
   "cell_type": "code",
   "execution_count": 2,
   "id": "initial_id",
   "metadata": {
    "collapsed": true,
    "ExecuteTime": {
     "end_time": "2024-01-03T12:56:33.124859400Z",
     "start_time": "2024-01-03T12:56:32.618383600Z"
    }
   },
   "outputs": [],
   "source": [
    "import pandas as pd"
   ]
  },
  {
   "cell_type": "code",
   "outputs": [],
   "source": [
    "df = pd.read_csv('data_small/TG_STAID000001.txt', skiprows=20, parse_dates=[\"    DATE\"])"
   ],
   "metadata": {
    "collapsed": false,
    "ExecuteTime": {
     "end_time": "2024-01-03T13:01:40.120467900Z",
     "start_time": "2024-01-03T13:01:39.967508200Z"
    }
   },
   "id": "8c9ff9c79f490333",
   "execution_count": 4
  },
  {
   "cell_type": "code",
   "outputs": [
    {
     "data": {
      "text/plain": "       STAID   SOUID       DATE     TG   Q_TG\n0          1   35381 1860-01-01     21      0\n1          1   35381 1860-01-02     46      0\n2          1   35381 1860-01-03     31      0\n3          1   35381 1860-01-04     37      0\n4          1   35381 1860-01-05     31      0\n...      ...     ...        ...    ...    ...\n59316      1   35381 2022-05-27  -9999      9\n59317      1   35381 2022-05-28  -9999      9\n59318      1   35381 2022-05-29  -9999      9\n59319      1   35381 2022-05-30  -9999      9\n59320      1   35381 2022-05-31  -9999      9\n\n[59321 rows x 5 columns]",
      "text/html": "<div>\n<style scoped>\n    .dataframe tbody tr th:only-of-type {\n        vertical-align: middle;\n    }\n\n    .dataframe tbody tr th {\n        vertical-align: top;\n    }\n\n    .dataframe thead th {\n        text-align: right;\n    }\n</style>\n<table border=\"1\" class=\"dataframe\">\n  <thead>\n    <tr style=\"text-align: right;\">\n      <th></th>\n      <th>STAID</th>\n      <th>SOUID</th>\n      <th>DATE</th>\n      <th>TG</th>\n      <th>Q_TG</th>\n    </tr>\n  </thead>\n  <tbody>\n    <tr>\n      <th>0</th>\n      <td>1</td>\n      <td>35381</td>\n      <td>1860-01-01</td>\n      <td>21</td>\n      <td>0</td>\n    </tr>\n    <tr>\n      <th>1</th>\n      <td>1</td>\n      <td>35381</td>\n      <td>1860-01-02</td>\n      <td>46</td>\n      <td>0</td>\n    </tr>\n    <tr>\n      <th>2</th>\n      <td>1</td>\n      <td>35381</td>\n      <td>1860-01-03</td>\n      <td>31</td>\n      <td>0</td>\n    </tr>\n    <tr>\n      <th>3</th>\n      <td>1</td>\n      <td>35381</td>\n      <td>1860-01-04</td>\n      <td>37</td>\n      <td>0</td>\n    </tr>\n    <tr>\n      <th>4</th>\n      <td>1</td>\n      <td>35381</td>\n      <td>1860-01-05</td>\n      <td>31</td>\n      <td>0</td>\n    </tr>\n    <tr>\n      <th>...</th>\n      <td>...</td>\n      <td>...</td>\n      <td>...</td>\n      <td>...</td>\n      <td>...</td>\n    </tr>\n    <tr>\n      <th>59316</th>\n      <td>1</td>\n      <td>35381</td>\n      <td>2022-05-27</td>\n      <td>-9999</td>\n      <td>9</td>\n    </tr>\n    <tr>\n      <th>59317</th>\n      <td>1</td>\n      <td>35381</td>\n      <td>2022-05-28</td>\n      <td>-9999</td>\n      <td>9</td>\n    </tr>\n    <tr>\n      <th>59318</th>\n      <td>1</td>\n      <td>35381</td>\n      <td>2022-05-29</td>\n      <td>-9999</td>\n      <td>9</td>\n    </tr>\n    <tr>\n      <th>59319</th>\n      <td>1</td>\n      <td>35381</td>\n      <td>2022-05-30</td>\n      <td>-9999</td>\n      <td>9</td>\n    </tr>\n    <tr>\n      <th>59320</th>\n      <td>1</td>\n      <td>35381</td>\n      <td>2022-05-31</td>\n      <td>-9999</td>\n      <td>9</td>\n    </tr>\n  </tbody>\n</table>\n<p>59321 rows × 5 columns</p>\n</div>"
     },
     "execution_count": 5,
     "metadata": {},
     "output_type": "execute_result"
    }
   ],
   "source": [
    "df"
   ],
   "metadata": {
    "collapsed": false,
    "ExecuteTime": {
     "end_time": "2024-01-03T13:01:54.780445900Z",
     "start_time": "2024-01-03T13:01:54.690426600Z"
    }
   },
   "id": "d5462ba0d43d93a2",
   "execution_count": 5
  },
  {
   "cell_type": "markdown",
   "source": [
    "# Show certain rows"
   ],
   "metadata": {
    "collapsed": false
   },
   "id": "c15e1bbb1551175"
  },
  {
   "cell_type": "code",
   "outputs": [
    {
     "data": {
      "text/plain": "    STAID   SOUID       DATE     TG   Q_TG\n10      1   35381 1860-01-11     -5      0\n11      1   35381 1860-01-12    -18      0\n12      1   35381 1860-01-13    -27      0\n13      1   35381 1860-01-14    -26      0\n14      1   35381 1860-01-15    -37      0\n15      1   35381 1860-01-16     -9      0\n16      1   35381 1860-01-17      7      0\n17      1   35381 1860-01-18     -6      0\n18      1   35381 1860-01-19    -16      0\n19      1   35381 1860-01-20    -19      0",
      "text/html": "<div>\n<style scoped>\n    .dataframe tbody tr th:only-of-type {\n        vertical-align: middle;\n    }\n\n    .dataframe tbody tr th {\n        vertical-align: top;\n    }\n\n    .dataframe thead th {\n        text-align: right;\n    }\n</style>\n<table border=\"1\" class=\"dataframe\">\n  <thead>\n    <tr style=\"text-align: right;\">\n      <th></th>\n      <th>STAID</th>\n      <th>SOUID</th>\n      <th>DATE</th>\n      <th>TG</th>\n      <th>Q_TG</th>\n    </tr>\n  </thead>\n  <tbody>\n    <tr>\n      <th>10</th>\n      <td>1</td>\n      <td>35381</td>\n      <td>1860-01-11</td>\n      <td>-5</td>\n      <td>0</td>\n    </tr>\n    <tr>\n      <th>11</th>\n      <td>1</td>\n      <td>35381</td>\n      <td>1860-01-12</td>\n      <td>-18</td>\n      <td>0</td>\n    </tr>\n    <tr>\n      <th>12</th>\n      <td>1</td>\n      <td>35381</td>\n      <td>1860-01-13</td>\n      <td>-27</td>\n      <td>0</td>\n    </tr>\n    <tr>\n      <th>13</th>\n      <td>1</td>\n      <td>35381</td>\n      <td>1860-01-14</td>\n      <td>-26</td>\n      <td>0</td>\n    </tr>\n    <tr>\n      <th>14</th>\n      <td>1</td>\n      <td>35381</td>\n      <td>1860-01-15</td>\n      <td>-37</td>\n      <td>0</td>\n    </tr>\n    <tr>\n      <th>15</th>\n      <td>1</td>\n      <td>35381</td>\n      <td>1860-01-16</td>\n      <td>-9</td>\n      <td>0</td>\n    </tr>\n    <tr>\n      <th>16</th>\n      <td>1</td>\n      <td>35381</td>\n      <td>1860-01-17</td>\n      <td>7</td>\n      <td>0</td>\n    </tr>\n    <tr>\n      <th>17</th>\n      <td>1</td>\n      <td>35381</td>\n      <td>1860-01-18</td>\n      <td>-6</td>\n      <td>0</td>\n    </tr>\n    <tr>\n      <th>18</th>\n      <td>1</td>\n      <td>35381</td>\n      <td>1860-01-19</td>\n      <td>-16</td>\n      <td>0</td>\n    </tr>\n    <tr>\n      <th>19</th>\n      <td>1</td>\n      <td>35381</td>\n      <td>1860-01-20</td>\n      <td>-19</td>\n      <td>0</td>\n    </tr>\n  </tbody>\n</table>\n</div>"
     },
     "execution_count": 6,
     "metadata": {},
     "output_type": "execute_result"
    }
   ],
   "source": [
    "df[10:20]"
   ],
   "metadata": {
    "collapsed": false,
    "ExecuteTime": {
     "end_time": "2024-01-03T13:05:29.371931600Z",
     "start_time": "2024-01-03T13:05:29.340925400Z"
    }
   },
   "id": "755f417d0e2cce6e",
   "execution_count": 6
  },
  {
   "cell_type": "markdown",
   "source": [
    "# Show certain columns"
   ],
   "metadata": {
    "collapsed": false
   },
   "id": "b6f7a156cfd6c042"
  },
  {
   "cell_type": "code",
   "outputs": [
    {
     "data": {
      "text/plain": "Index(['STAID', ' SOUID', '    DATE', '   TG', ' Q_TG'], dtype='object')"
     },
     "execution_count": 9,
     "metadata": {},
     "output_type": "execute_result"
    }
   ],
   "source": [
    "df.columns"
   ],
   "metadata": {
    "collapsed": false,
    "ExecuteTime": {
     "end_time": "2024-01-03T13:07:22.634524Z",
     "start_time": "2024-01-03T13:07:22.627522700Z"
    }
   },
   "id": "7f8195b30abad509",
   "execution_count": 9
  },
  {
   "cell_type": "code",
   "outputs": [
    {
     "data": {
      "text/plain": "0          21\n1          46\n2          31\n3          37\n4          31\n         ... \n59316   -9999\n59317   -9999\n59318   -9999\n59319   -9999\n59320   -9999\nName:    TG, Length: 59321, dtype: int64"
     },
     "execution_count": 10,
     "metadata": {},
     "output_type": "execute_result"
    }
   ],
   "source": [
    "df['   TG']"
   ],
   "metadata": {
    "collapsed": false,
    "ExecuteTime": {
     "end_time": "2024-01-03T13:07:51.096741700Z",
     "start_time": "2024-01-03T13:07:51.084737600Z"
    }
   },
   "id": "e00c55ca87691980",
   "execution_count": 10
  },
  {
   "cell_type": "code",
   "outputs": [
    {
     "data": {
      "text/plain": "         TG       DATE\n0        21 1860-01-01\n1        46 1860-01-02\n2        31 1860-01-03\n3        37 1860-01-04\n4        31 1860-01-05\n...     ...        ...\n59316 -9999 2022-05-27\n59317 -9999 2022-05-28\n59318 -9999 2022-05-29\n59319 -9999 2022-05-30\n59320 -9999 2022-05-31\n\n[59321 rows x 2 columns]",
      "text/html": "<div>\n<style scoped>\n    .dataframe tbody tr th:only-of-type {\n        vertical-align: middle;\n    }\n\n    .dataframe tbody tr th {\n        vertical-align: top;\n    }\n\n    .dataframe thead th {\n        text-align: right;\n    }\n</style>\n<table border=\"1\" class=\"dataframe\">\n  <thead>\n    <tr style=\"text-align: right;\">\n      <th></th>\n      <th>TG</th>\n      <th>DATE</th>\n    </tr>\n  </thead>\n  <tbody>\n    <tr>\n      <th>0</th>\n      <td>21</td>\n      <td>1860-01-01</td>\n    </tr>\n    <tr>\n      <th>1</th>\n      <td>46</td>\n      <td>1860-01-02</td>\n    </tr>\n    <tr>\n      <th>2</th>\n      <td>31</td>\n      <td>1860-01-03</td>\n    </tr>\n    <tr>\n      <th>3</th>\n      <td>37</td>\n      <td>1860-01-04</td>\n    </tr>\n    <tr>\n      <th>4</th>\n      <td>31</td>\n      <td>1860-01-05</td>\n    </tr>\n    <tr>\n      <th>...</th>\n      <td>...</td>\n      <td>...</td>\n    </tr>\n    <tr>\n      <th>59316</th>\n      <td>-9999</td>\n      <td>2022-05-27</td>\n    </tr>\n    <tr>\n      <th>59317</th>\n      <td>-9999</td>\n      <td>2022-05-28</td>\n    </tr>\n    <tr>\n      <th>59318</th>\n      <td>-9999</td>\n      <td>2022-05-29</td>\n    </tr>\n    <tr>\n      <th>59319</th>\n      <td>-9999</td>\n      <td>2022-05-30</td>\n    </tr>\n    <tr>\n      <th>59320</th>\n      <td>-9999</td>\n      <td>2022-05-31</td>\n    </tr>\n  </tbody>\n</table>\n<p>59321 rows × 2 columns</p>\n</div>"
     },
     "execution_count": 11,
     "metadata": {},
     "output_type": "execute_result"
    }
   ],
   "source": [
    "df[['   TG', '    DATE']]"
   ],
   "metadata": {
    "collapsed": false,
    "ExecuteTime": {
     "end_time": "2024-01-03T13:08:53.739449400Z",
     "start_time": "2024-01-03T13:08:53.719443400Z"
    }
   },
   "id": "450840e0ffcec68f",
   "execution_count": 11
  },
  {
   "cell_type": "markdown",
   "source": [
    "# Simple statistics and filtering"
   ],
   "metadata": {
    "collapsed": false
   },
   "id": "fc3056c45546303e"
  },
  {
   "cell_type": "code",
   "outputs": [
    {
     "data": {
      "text/plain": "6.360787526128467"
     },
     "execution_count": 14,
     "metadata": {},
     "output_type": "execute_result"
    }
   ],
   "source": [
    "df.loc[df['   TG'] != -9999]['   TG'].mean() / 10"
   ],
   "metadata": {
    "collapsed": false,
    "ExecuteTime": {
     "end_time": "2024-01-03T13:17:11.545288900Z",
     "start_time": "2024-01-03T13:17:11.503274700Z"
    }
   },
   "id": "32bc45ff8a30d556",
   "execution_count": 14
  },
  {
   "cell_type": "code",
   "outputs": [
    {
     "data": {
      "text/plain": "26.2"
     },
     "execution_count": 15,
     "metadata": {},
     "output_type": "execute_result"
    }
   ],
   "source": [
    "df.loc[df['   TG'] != -9999]['   TG'].max() / 10"
   ],
   "metadata": {
    "collapsed": false,
    "ExecuteTime": {
     "end_time": "2024-01-03T13:17:39.907839600Z",
     "start_time": "2024-01-03T13:17:39.882834300Z"
    }
   },
   "id": "5958b245ad2fce9",
   "execution_count": 15
  },
  {
   "cell_type": "code",
   "outputs": [
    {
     "data": {
      "text/plain": "-28.8"
     },
     "execution_count": 16,
     "metadata": {},
     "output_type": "execute_result"
    }
   ],
   "source": [
    "df.loc[df['   TG'] != -9999]['   TG'].min() / 10"
   ],
   "metadata": {
    "collapsed": false,
    "ExecuteTime": {
     "end_time": "2024-01-03T13:17:59.605044200Z",
     "start_time": "2024-01-03T13:17:59.576038200Z"
    }
   },
   "id": "b520c21e7d943b81",
   "execution_count": 16
  },
  {
   "cell_type": "code",
   "outputs": [
    {
     "data": {
      "text/plain": "<Axes: >"
     },
     "execution_count": 17,
     "metadata": {},
     "output_type": "execute_result"
    },
    {
     "data": {
      "text/plain": "<Figure size 640x480 with 1 Axes>",
      "image/png": "[encoded data removed]"
     },
     "metadata": {},
     "output_type": "display_data"
    }
   ],
   "source": [
    "df.loc[df['   TG'] != -9999]['   TG'].hist()"
   ],
   "metadata": {
    "collapsed": false,
    "ExecuteTime": {
     "end_time": "2024-01-03T13:19:46.059149Z",
     "start_time": "2024-01-03T13:19:45.502497500Z"
    }
   },
   "id": "b056bda9dc9490d4",
   "execution_count": 17
  },
  {
   "cell_type": "markdown",
   "source": [
    "# Get certain cells"
   ],
   "metadata": {
    "collapsed": false
   },
   "id": "ea9c2f3adfedd783"
  },
  {
   "cell_type": "code",
   "outputs": [
    {
     "data": {
      "text/plain": "       STAID   SOUID       DATE     TG   Q_TG\n0          1   35381 1860-01-01     21      0\n1          1   35381 1860-01-02     46      0\n2          1   35381 1860-01-03     31      0\n3          1   35381 1860-01-04     37      0\n4          1   35381 1860-01-05     31      0\n...      ...     ...        ...    ...    ...\n59316      1   35381 2022-05-27  -9999      9\n59317      1   35381 2022-05-28  -9999      9\n59318      1   35381 2022-05-29  -9999      9\n59319      1   35381 2022-05-30  -9999      9\n59320      1   35381 2022-05-31  -9999      9\n\n[59321 rows x 5 columns]",
      "text/html": "<div>\n<style scoped>\n    .dataframe tbody tr th:only-of-type {\n        vertical-align: middle;\n    }\n\n    .dataframe tbody tr th {\n        vertical-align: top;\n    }\n\n    .dataframe thead th {\n        text-align: right;\n    }\n</style>\n<table border=\"1\" class=\"dataframe\">\n  <thead>\n    <tr style=\"text-align: right;\">\n      <th></th>\n      <th>STAID</th>\n      <th>SOUID</th>\n      <th>DATE</th>\n      <th>TG</th>\n      <th>Q_TG</th>\n    </tr>\n  </thead>\n  <tbody>\n    <tr>\n      <th>0</th>\n      <td>1</td>\n      <td>35381</td>\n      <td>1860-01-01</td>\n      <td>21</td>\n      <td>0</td>\n    </tr>\n    <tr>\n      <th>1</th>\n      <td>1</td>\n      <td>35381</td>\n      <td>1860-01-02</td>\n      <td>46</td>\n      <td>0</td>\n    </tr>\n    <tr>\n      <th>2</th>\n      <td>1</td>\n      <td>35381</td>\n      <td>1860-01-03</td>\n      <td>31</td>\n      <td>0</td>\n    </tr>\n    <tr>\n      <th>3</th>\n      <td>1</td>\n      <td>35381</td>\n      <td>1860-01-04</td>\n      <td>37</td>\n      <td>0</td>\n    </tr>\n    <tr>\n      <th>4</th>\n      <td>1</td>\n      <td>35381</td>\n      <td>1860-01-05</td>\n      <td>31</td>\n      <td>0</td>\n    </tr>\n    <tr>\n      <th>...</th>\n      <td>...</td>\n      <td>...</td>\n      <td>...</td>\n      <td>...</td>\n      <td>...</td>\n    </tr>\n    <tr>\n      <th>59316</th>\n      <td>1</td>\n      <td>35381</td>\n      <td>2022-05-27</td>\n      <td>-9999</td>\n      <td>9</td>\n    </tr>\n    <tr>\n      <th>59317</th>\n      <td>1</td>\n      <td>35381</td>\n      <td>2022-05-28</td>\n      <td>-9999</td>\n      <td>9</td>\n    </tr>\n    <tr>\n      <th>59318</th>\n      <td>1</td>\n      <td>35381</td>\n      <td>2022-05-29</td>\n      <td>-9999</td>\n      <td>9</td>\n    </tr>\n    <tr>\n      <th>59319</th>\n      <td>1</td>\n      <td>35381</td>\n      <td>2022-05-30</td>\n      <td>-9999</td>\n      <td>9</td>\n    </tr>\n    <tr>\n      <th>59320</th>\n      <td>1</td>\n      <td>35381</td>\n      <td>2022-05-31</td>\n      <td>-9999</td>\n      <td>9</td>\n    </tr>\n  </tbody>\n</table>\n<p>59321 rows × 5 columns</p>\n</div>"
     },
     "execution_count": 18,
     "metadata": {},
     "output_type": "execute_result"
    }
   ],
   "source": [
    "df"
   ],
   "metadata": {
    "collapsed": false,
    "ExecuteTime": {
     "end_time": "2024-01-03T13:54:44.858713600Z",
     "start_time": "2024-01-03T13:54:44.831706700Z"
    }
   },
   "id": "97322e563c3dd94f",
   "execution_count": 18
  },
  {
   "cell_type": "code",
   "outputs": [
    {
     "data": {
      "text/plain": "3.1"
     },
     "execution_count": 20,
     "metadata": {},
     "output_type": "execute_result"
    }
   ],
   "source": [
    "df.loc[df['    DATE']==\"1860-01-05\"]['   TG'].squeeze() / 10"
   ],
   "metadata": {
    "collapsed": false,
    "ExecuteTime": {
     "end_time": "2024-01-03T13:57:53.789457400Z",
     "start_time": "2024-01-03T13:57:53.731444400Z"
    }
   },
   "id": "d762efafd5361b43",
   "execution_count": 20
  },
  {
   "cell_type": "code",
   "outputs": [
    {
     "data": {
      "text/plain": "      STAID   SOUID       DATE     TG   Q_TG\n3150      1   35381 1868-08-16    262      0",
      "text/html": "<div>\n<style scoped>\n    .dataframe tbody tr th:only-of-type {\n        vertical-align: middle;\n    }\n\n    .dataframe tbody tr th {\n        vertical-align: top;\n    }\n\n    .dataframe thead th {\n        text-align: right;\n    }\n</style>\n<table border=\"1\" class=\"dataframe\">\n  <thead>\n    <tr style=\"text-align: right;\">\n      <th></th>\n      <th>STAID</th>\n      <th>SOUID</th>\n      <th>DATE</th>\n      <th>TG</th>\n      <th>Q_TG</th>\n    </tr>\n  </thead>\n  <tbody>\n    <tr>\n      <th>3150</th>\n      <td>1</td>\n      <td>35381</td>\n      <td>1868-08-16</td>\n      <td>262</td>\n      <td>0</td>\n    </tr>\n  </tbody>\n</table>\n</div>"
     },
     "execution_count": 21,
     "metadata": {},
     "output_type": "execute_result"
    }
   ],
   "source": [
    "df.loc[df['   TG'] == df['   TG'].max()]"
   ],
   "metadata": {
    "collapsed": false,
    "ExecuteTime": {
     "end_time": "2024-01-03T13:59:52.000870200Z",
     "start_time": "2024-01-03T13:59:51.972864Z"
    }
   },
   "id": "334d1a61cd57b397",
   "execution_count": 21
  },
  {
   "cell_type": "code",
   "outputs": [
    {
     "data": {
      "text/plain": "37"
     },
     "execution_count": 22,
     "metadata": {},
     "output_type": "execute_result"
    }
   ],
   "source": [
    "df.loc[3, '   TG']"
   ],
   "metadata": {
    "collapsed": false,
    "ExecuteTime": {
     "end_time": "2024-01-03T14:01:20.224183700Z",
     "start_time": "2024-01-03T14:01:20.176167Z"
    }
   },
   "id": "6148e1fa98133e96",
   "execution_count": 22
  },
  {
   "cell_type": "markdown",
   "source": [
    "# Calculate a new column out of existing column"
   ],
   "metadata": {
    "collapsed": false
   },
   "id": "c7c2e7d543c31203"
  },
  {
   "cell_type": "code",
   "outputs": [
    {
     "data": {
      "text/plain": "       STAID   SOUID       DATE     TG   Q_TG     TG  Fahrenheit   TG0\n0          1   35381 1860-01-01     21      0    2.1       35.78  21.0\n1          1   35381 1860-01-02     46      0    4.6       40.28  46.0\n2          1   35381 1860-01-03     31      0    3.1       37.58  31.0\n3          1   35381 1860-01-04     37      0    3.7       38.66  37.0\n4          1   35381 1860-01-05     31      0    3.1       37.58  31.0\n...      ...     ...        ...    ...    ...    ...         ...   ...\n59316      1   35381 2022-05-27  -9999      9 -999.9    -1767.82   NaN\n59317      1   35381 2022-05-28  -9999      9 -999.9    -1767.82   NaN\n59318      1   35381 2022-05-29  -9999      9 -999.9    -1767.82   NaN\n59319      1   35381 2022-05-30  -9999      9 -999.9    -1767.82   NaN\n59320      1   35381 2022-05-31  -9999      9 -999.9    -1767.82   NaN\n\n[59321 rows x 8 columns]",
      "text/html": "<div>\n<style scoped>\n    .dataframe tbody tr th:only-of-type {\n        vertical-align: middle;\n    }\n\n    .dataframe tbody tr th {\n        vertical-align: top;\n    }\n\n    .dataframe thead th {\n        text-align: right;\n    }\n</style>\n<table border=\"1\" class=\"dataframe\">\n  <thead>\n    <tr style=\"text-align: right;\">\n      <th></th>\n      <th>STAID</th>\n      <th>SOUID</th>\n      <th>DATE</th>\n      <th>TG</th>\n      <th>Q_TG</th>\n      <th>TG</th>\n      <th>Fahrenheit</th>\n      <th>TG0</th>\n    </tr>\n  </thead>\n  <tbody>\n    <tr>\n      <th>0</th>\n      <td>1</td>\n      <td>35381</td>\n      <td>1860-01-01</td>\n      <td>21</td>\n      <td>0</td>\n      <td>2.1</td>\n      <td>35.78</td>\n      <td>21.0</td>\n    </tr>\n    <tr>\n      <th>1</th>\n      <td>1</td>\n      <td>35381</td>\n      <td>1860-01-02</td>\n      <td>46</td>\n      <td>0</td>\n      <td>4.6</td>\n      <td>40.28</td>\n      <td>46.0</td>\n    </tr>\n    <tr>\n      <th>2</th>\n      <td>1</td>\n      <td>35381</td>\n      <td>1860-01-03</td>\n      <td>31</td>\n      <td>0</td>\n      <td>3.1</td>\n      <td>37.58</td>\n      <td>31.0</td>\n    </tr>\n    <tr>\n      <th>3</th>\n      <td>1</td>\n      <td>35381</td>\n      <td>1860-01-04</td>\n      <td>37</td>\n      <td>0</td>\n      <td>3.7</td>\n      <td>38.66</td>\n      <td>37.0</td>\n    </tr>\n    <tr>\n      <th>4</th>\n      <td>1</td>\n      <td>35381</td>\n      <td>1860-01-05</td>\n      <td>31</td>\n      <td>0</td>\n      <td>3.1</td>\n      <td>37.58</td>\n      <td>31.0</td>\n    </tr>\n    <tr>\n      <th>...</th>\n      <td>...</td>\n      <td>...</td>\n      <td>...</td>\n      <td>...</td>\n      <td>...</td>\n      <td>...</td>\n      <td>...</td>\n      <td>...</td>\n    </tr>\n    <tr>\n      <th>59316</th>\n      <td>1</td>\n      <td>35381</td>\n      <td>2022-05-27</td>\n      <td>-9999</td>\n      <td>9</td>\n      <td>-999.9</td>\n      <td>-1767.82</td>\n      <td>NaN</td>\n    </tr>\n    <tr>\n      <th>59317</th>\n      <td>1</td>\n      <td>35381</td>\n      <td>2022-05-28</td>\n      <td>-9999</td>\n      <td>9</td>\n      <td>-999.9</td>\n      <td>-1767.82</td>\n      <td>NaN</td>\n    </tr>\n    <tr>\n      <th>59318</th>\n      <td>1</td>\n      <td>35381</td>\n      <td>2022-05-29</td>\n      <td>-9999</td>\n      <td>9</td>\n      <td>-999.9</td>\n      <td>-1767.82</td>\n      <td>NaN</td>\n    </tr>\n    <tr>\n      <th>59319</th>\n      <td>1</td>\n      <td>35381</td>\n      <td>2022-05-30</td>\n      <td>-9999</td>\n      <td>9</td>\n      <td>-999.9</td>\n      <td>-1767.82</td>\n      <td>NaN</td>\n    </tr>\n    <tr>\n      <th>59320</th>\n      <td>1</td>\n      <td>35381</td>\n      <td>2022-05-31</td>\n      <td>-9999</td>\n      <td>9</td>\n      <td>-999.9</td>\n      <td>-1767.82</td>\n      <td>NaN</td>\n    </tr>\n  </tbody>\n</table>\n<p>59321 rows × 8 columns</p>\n</div>"
     },
     "execution_count": 28,
     "metadata": {},
     "output_type": "execute_result"
    }
   ],
   "source": [
    "import numpy as np\n",
    "df[\"TG0\"] = df[\"   TG\"].mask(df[\"   TG\"]==-9999, np.nan)\n",
    "df"
   ],
   "metadata": {
    "collapsed": false,
    "ExecuteTime": {
     "end_time": "2024-01-03T14:09:01.419730800Z",
     "start_time": "2024-01-03T14:09:01.376721700Z"
    }
   },
   "id": "c453b07c0cf41cea",
   "execution_count": 28
  },
  {
   "cell_type": "code",
   "outputs": [],
   "source": [
    "df[\"TG\"] = df[\"   TG\"] / 10"
   ],
   "metadata": {
    "collapsed": false,
    "ExecuteTime": {
     "end_time": "2024-01-03T14:09:08.398715600Z",
     "start_time": "2024-01-03T14:09:08.377711100Z"
    }
   },
   "id": "38e479edb3a4832c",
   "execution_count": 29
  },
  {
   "cell_type": "code",
   "outputs": [
    {
     "data": {
      "text/plain": "       STAID   SOUID       DATE     TG   Q_TG     TG  Fahrenheit   TG0\n0          1   35381 1860-01-01     21      0    2.1       35.78  21.0\n1          1   35381 1860-01-02     46      0    4.6       40.28  46.0\n2          1   35381 1860-01-03     31      0    3.1       37.58  31.0\n3          1   35381 1860-01-04     37      0    3.7       38.66  37.0\n4          1   35381 1860-01-05     31      0    3.1       37.58  31.0\n...      ...     ...        ...    ...    ...    ...         ...   ...\n59316      1   35381 2022-05-27  -9999      9 -999.9    -1767.82   NaN\n59317      1   35381 2022-05-28  -9999      9 -999.9    -1767.82   NaN\n59318      1   35381 2022-05-29  -9999      9 -999.9    -1767.82   NaN\n59319      1   35381 2022-05-30  -9999      9 -999.9    -1767.82   NaN\n59320      1   35381 2022-05-31  -9999      9 -999.9    -1767.82   NaN\n\n[59321 rows x 8 columns]",
      "text/html": "<div>\n<style scoped>\n    .dataframe tbody tr th:only-of-type {\n        vertical-align: middle;\n    }\n\n    .dataframe tbody tr th {\n        vertical-align: top;\n    }\n\n    .dataframe thead th {\n        text-align: right;\n    }\n</style>\n<table border=\"1\" class=\"dataframe\">\n  <thead>\n    <tr style=\"text-align: right;\">\n      <th></th>\n      <th>STAID</th>\n      <th>SOUID</th>\n      <th>DATE</th>\n      <th>TG</th>\n      <th>Q_TG</th>\n      <th>TG</th>\n      <th>Fahrenheit</th>\n      <th>TG0</th>\n    </tr>\n  </thead>\n  <tbody>\n    <tr>\n      <th>0</th>\n      <td>1</td>\n      <td>35381</td>\n      <td>1860-01-01</td>\n      <td>21</td>\n      <td>0</td>\n      <td>2.1</td>\n      <td>35.78</td>\n      <td>21.0</td>\n    </tr>\n    <tr>\n      <th>1</th>\n      <td>1</td>\n      <td>35381</td>\n      <td>1860-01-02</td>\n      <td>46</td>\n      <td>0</td>\n      <td>4.6</td>\n      <td>40.28</td>\n      <td>46.0</td>\n    </tr>\n    <tr>\n      <th>2</th>\n      <td>1</td>\n      <td>35381</td>\n      <td>1860-01-03</td>\n      <td>31</td>\n      <td>0</td>\n      <td>3.1</td>\n      <td>37.58</td>\n      <td>31.0</td>\n    </tr>\n    <tr>\n      <th>3</th>\n      <td>1</td>\n      <td>35381</td>\n      <td>1860-01-04</td>\n      <td>37</td>\n      <td>0</td>\n      <td>3.7</td>\n      <td>38.66</td>\n      <td>37.0</td>\n    </tr>\n    <tr>\n      <th>4</th>\n      <td>1</td>\n      <td>35381</td>\n      <td>1860-01-05</td>\n      <td>31</td>\n      <td>0</td>\n      <td>3.1</td>\n      <td>37.58</td>\n      <td>31.0</td>\n    </tr>\n    <tr>\n      <th>...</th>\n      <td>...</td>\n      <td>...</td>\n      <td>...</td>\n      <td>...</td>\n      <td>...</td>\n      <td>...</td>\n      <td>...</td>\n      <td>...</td>\n    </tr>\n    <tr>\n      <th>59316</th>\n      <td>1</td>\n      <td>35381</td>\n      <td>2022-05-27</td>\n      <td>-9999</td>\n      <td>9</td>\n      <td>-999.9</td>\n      <td>-1767.82</td>\n      <td>NaN</td>\n    </tr>\n    <tr>\n      <th>59317</th>\n      <td>1</td>\n      <td>35381</td>\n      <td>2022-05-28</td>\n      <td>-9999</td>\n      <td>9</td>\n      <td>-999.9</td>\n      <td>-1767.82</td>\n      <td>NaN</td>\n    </tr>\n    <tr>\n      <th>59318</th>\n      <td>1</td>\n      <td>35381</td>\n      <td>2022-05-29</td>\n      <td>-9999</td>\n      <td>9</td>\n      <td>-999.9</td>\n      <td>-1767.82</td>\n      <td>NaN</td>\n    </tr>\n    <tr>\n      <th>59319</th>\n      <td>1</td>\n      <td>35381</td>\n      <td>2022-05-30</td>\n      <td>-9999</td>\n      <td>9</td>\n      <td>-999.9</td>\n      <td>-1767.82</td>\n      <td>NaN</td>\n    </tr>\n    <tr>\n      <th>59320</th>\n      <td>1</td>\n      <td>35381</td>\n      <td>2022-05-31</td>\n      <td>-9999</td>\n      <td>9</td>\n      <td>-999.9</td>\n      <td>-1767.82</td>\n      <td>NaN</td>\n    </tr>\n  </tbody>\n</table>\n<p>59321 rows × 8 columns</p>\n</div>"
     },
     "execution_count": 30,
     "metadata": {},
     "output_type": "execute_result"
    }
   ],
   "source": [
    "df"
   ],
   "metadata": {
    "collapsed": false,
    "ExecuteTime": {
     "end_time": "2024-01-03T14:09:10.978187Z",
     "start_time": "2024-01-03T14:09:10.954181200Z"
    }
   },
   "id": "14677d7c1b4643e9",
   "execution_count": 30
  },
  {
   "cell_type": "code",
   "outputs": [],
   "source": [
    "df[\"Fahrenheit\"] = df[\"TG0\"] * (9/5) + 32"
   ],
   "metadata": {
    "collapsed": false,
    "ExecuteTime": {
     "end_time": "2024-01-03T14:11:30.342327900Z",
     "start_time": "2024-01-03T14:11:30.325324600Z"
    }
   },
   "id": "1e0d9fb6fa1d346c",
   "execution_count": 34
  },
  {
   "cell_type": "code",
   "outputs": [
    {
     "data": {
      "text/plain": "       STAID   SOUID       DATE     TG   Q_TG     TG  Fahrenheit   TG0\n0          1   35381 1860-01-01     21      0    2.1        69.8  21.0\n1          1   35381 1860-01-02     46      0    4.6       114.8  46.0\n2          1   35381 1860-01-03     31      0    3.1        87.8  31.0\n3          1   35381 1860-01-04     37      0    3.7        98.6  37.0\n4          1   35381 1860-01-05     31      0    3.1        87.8  31.0\n...      ...     ...        ...    ...    ...    ...         ...   ...\n59316      1   35381 2022-05-27  -9999      9 -999.9         NaN   NaN\n59317      1   35381 2022-05-28  -9999      9 -999.9         NaN   NaN\n59318      1   35381 2022-05-29  -9999      9 -999.9         NaN   NaN\n59319      1   35381 2022-05-30  -9999      9 -999.9         NaN   NaN\n59320      1   35381 2022-05-31  -9999      9 -999.9         NaN   NaN\n\n[59321 rows x 8 columns]",
      "text/html": "<div>\n<style scoped>\n    .dataframe tbody tr th:only-of-type {\n        vertical-align: middle;\n    }\n\n    .dataframe tbody tr th {\n        vertical-align: top;\n    }\n\n    .dataframe thead th {\n        text-align: right;\n    }\n</style>\n<table border=\"1\" class=\"dataframe\">\n  <thead>\n    <tr style=\"text-align: right;\">\n      <th></th>\n      <th>STAID</th>\n      <th>SOUID</th>\n      <th>DATE</th>\n      <th>TG</th>\n      <th>Q_TG</th>\n      <th>TG</th>\n      <th>Fahrenheit</th>\n      <th>TG0</th>\n    </tr>\n  </thead>\n  <tbody>\n    <tr>\n      <th>0</th>\n      <td>1</td>\n      <td>35381</td>\n      <td>1860-01-01</td>\n      <td>21</td>\n      <td>0</td>\n      <td>2.1</td>\n      <td>69.8</td>\n      <td>21.0</td>\n    </tr>\n    <tr>\n      <th>1</th>\n      <td>1</td>\n      <td>35381</td>\n      <td>1860-01-02</td>\n      <td>46</td>\n      <td>0</td>\n      <td>4.6</td>\n      <td>114.8</td>\n      <td>46.0</td>\n    </tr>\n    <tr>\n      <th>2</th>\n      <td>1</td>\n      <td>35381</td>\n      <td>1860-01-03</td>\n      <td>31</td>\n      <td>0</td>\n      <td>3.1</td>\n      <td>87.8</td>\n      <td>31.0</td>\n    </tr>\n    <tr>\n      <th>3</th>\n      <td>1</td>\n      <td>35381</td>\n      <td>1860-01-04</td>\n      <td>37</td>\n      <td>0</td>\n      <td>3.7</td>\n      <td>98.6</td>\n      <td>37.0</td>\n    </tr>\n    <tr>\n      <th>4</th>\n      <td>1</td>\n      <td>35381</td>\n      <td>1860-01-05</td>\n      <td>31</td>\n      <td>0</td>\n      <td>3.1</td>\n      <td>87.8</td>\n      <td>31.0</td>\n    </tr>\n    <tr>\n      <th>...</th>\n      <td>...</td>\n      <td>...</td>\n      <td>...</td>\n      <td>...</td>\n      <td>...</td>\n      <td>...</td>\n      <td>...</td>\n      <td>...</td>\n    </tr>\n    <tr>\n      <th>59316</th>\n      <td>1</td>\n      <td>35381</td>\n      <td>2022-05-27</td>\n      <td>-9999</td>\n      <td>9</td>\n      <td>-999.9</td>\n      <td>NaN</td>\n      <td>NaN</td>\n    </tr>\n    <tr>\n      <th>59317</th>\n      <td>1</td>\n      <td>35381</td>\n      <td>2022-05-28</td>\n      <td>-9999</td>\n      <td>9</td>\n      <td>-999.9</td>\n      <td>NaN</td>\n      <td>NaN</td>\n    </tr>\n    <tr>\n      <th>59318</th>\n      <td>1</td>\n      <td>35381</td>\n      <td>2022-05-29</td>\n      <td>-9999</td>\n      <td>9</td>\n      <td>-999.9</td>\n      <td>NaN</td>\n      <td>NaN</td>\n    </tr>\n    <tr>\n      <th>59319</th>\n      <td>1</td>\n      <td>35381</td>\n      <td>2022-05-30</td>\n      <td>-9999</td>\n      <td>9</td>\n      <td>-999.9</td>\n      <td>NaN</td>\n      <td>NaN</td>\n    </tr>\n    <tr>\n      <th>59320</th>\n      <td>1</td>\n      <td>35381</td>\n      <td>2022-05-31</td>\n      <td>-9999</td>\n      <td>9</td>\n      <td>-999.9</td>\n      <td>NaN</td>\n      <td>NaN</td>\n    </tr>\n  </tbody>\n</table>\n<p>59321 rows × 8 columns</p>\n</div>"
     },
     "execution_count": 35,
     "metadata": {},
     "output_type": "execute_result"
    }
   ],
   "source": [
    "df"
   ],
   "metadata": {
    "collapsed": false,
    "ExecuteTime": {
     "end_time": "2024-01-03T14:11:37.159370700Z",
     "start_time": "2024-01-03T14:11:37.136365200Z"
    }
   },
   "id": "80bf570d4ff23ee1",
   "execution_count": 35
  },
  {
   "cell_type": "markdown",
   "source": [
    "# Plotting"
   ],
   "metadata": {
    "collapsed": false
   },
   "id": "769538960ff8067c"
  },
  {
   "cell_type": "code",
   "outputs": [
    {
     "data": {
      "text/plain": "<Axes: >"
     },
     "execution_count": 36,
     "metadata": {},
     "output_type": "execute_result"
    },
    {
     "data": {
      "text/plain": "<Figure size 640x480 with 1 Axes>",
      "image/png": "[encoded data removed]"
     },
     "metadata": {},
     "output_type": "display_data"
    }
   ],
   "source": [
    "df[\"Fahrenheit\"].hist()"
   ],
   "metadata": {
    "collapsed": false,
    "ExecuteTime": {
     "end_time": "2024-01-03T14:11:41.541164200Z",
     "start_time": "2024-01-03T14:11:41.355289Z"
    }
   },
   "id": "546f85e15129b837",
   "execution_count": 36
  },
  {
   "cell_type": "code",
   "outputs": [
    {
     "data": {
      "text/plain": "<Axes: xlabel='    DATE'>"
     },
     "execution_count": 38,
     "metadata": {},
     "output_type": "execute_result"
    },
    {
     "data": {
      "text/plain": "<Figure size 1500x300 with 1 Axes>",
      "image/png": "[encoded data removed]"
     },
     "metadata": {},
     "output_type": "display_data"
    }
   ],
   "source": [
    "df[100:1000].plot(x='    DATE', y=\"TG\", figsize=(15, 3))"
   ],
   "metadata": {
    "collapsed": false,
    "ExecuteTime": {
     "end_time": "2024-01-03T14:14:55.576965700Z",
     "start_time": "2024-01-03T14:14:55.298533700Z"
    }
   },
   "id": "6ab59b85926c91b5",
   "execution_count": 38
  }
 ],
 "metadata": {
  "kernelspec": {
   "display_name": "Python 3",
   "language": "python",
   "name": "python3"
  },
  "language_info": {
   "codemirror_mode": {
    "name": "ipython",
    "version": 2
   },
   "file_extension": ".py",
   "mimetype": "text/x-python",
   "name": "python",
   "nbconvert_exporter": "python",
   "pygments_lexer": "ipython2",
   "version": "2.7.6"
  }
 },
 "nbformat": 4,
 "nbformat_minor": 5
}
